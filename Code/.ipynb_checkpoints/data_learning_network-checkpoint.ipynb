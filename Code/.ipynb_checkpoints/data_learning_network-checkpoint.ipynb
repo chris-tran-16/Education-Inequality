{
 "cells": [
  {
   "cell_type": "code",
   "execution_count": 1,
   "metadata": {
    "collapsed": true
   },
   "outputs": [],
   "source": [
    "import pandas as pd\n",
    "import numpy as np\n",
    "import matplotlib.pyplot as plt\n",
    "from sklearn import tree\n",
    "from sklearn.ensemble import RandomForestClassifier\n",
    "from sklearn.model_selection import train_test_split\n",
    "from sklearn.metrics import accuracy_score, f1_score, roc_auc_score, precision_score, recall_score\n",
    "import pickle\n",
    "\n",
    "data_dir = 'data/final_data/'"
   ]
  },
  {
   "cell_type": "code",
   "execution_count": 2,
   "metadata": {},
   "outputs": [
    {
     "name": "stdout",
     "output_type": "stream",
     "text": [
      "(29036, 418)\n",
      "(29036,)\n",
      "(7259, 418)\n",
      "(7259,)\n"
     ]
    }
   ],
   "source": [
    "#adjacency, edge_weights\n",
    "\n",
    "data_c = pd.read_csv(data_dir + 'data_n')\n",
    "\n",
    "with open(data_dir + 'network.pkl', 'rb') as f:\n",
    "        adjacency, edge_weights = pickle.load(f)\n",
    "        \n",
    "data_c = data_c.drop(['state','state_name'],axis=1).copy()\n",
    "\n",
    "y = data_c['prof'].as_matrix()\n",
    "x = data_c.drop(['prof'],axis=1).as_matrix()\n",
    "indices = np.arange(x.shape[0])\n",
    "\n",
    "x_train, x_test, y_train, y_test, train_idx, test_idx = train_test_split(x, y, indices, test_size=.2,stratify=y)\n",
    "\n",
    "print(x_train.shape)\n",
    "print(y_train.shape)\n",
    "print(x_test.shape)\n",
    "print(y_test.shape)"
   ]
  },
  {
   "cell_type": "code",
   "execution_count": 3,
   "metadata": {},
   "outputs": [
    {
     "name": "stdout",
     "output_type": "stream",
     "text": [
      "CPU times: user 10min 22s, sys: 20 ms, total: 10min 22s\n",
      "Wall time: 10min 22s\n"
     ]
    }
   ],
   "source": [
    "%%time\n",
    "\n",
    "y_pred = np.zeros(x_test.shape[0])\n",
    "\n",
    "# bootstrapping\n",
    "\n",
    "for i in range(x_test.shape[0]): \n",
    "# for i in range(20): \n",
    "    \n",
    "    observed_edges_idx = np.in1d(train_idx,adjacency[test_idx[i]])\n",
    "    o_edge_weights = edge_weights[test_idx[i]][np.in1d(adjacency[test_idx[i]], train_idx[observed_edges_idx])]\n",
    "    \n",
    "#     clf = tree.DecisionTreeClassifier(criterion='entropy')\n",
    "    clf = RandomForestClassifier(criterion='entropy', n_estimators=50)\n",
    "    clf.fit(x_train[observed_edges_idx], y_train[observed_edges_idx], sample_weight=o_edge_weights)\n",
    "    y_pred[i] = clf.predict(x_test[i].reshape(1, -1))"
   ]
  },
  {
   "cell_type": "code",
   "execution_count": 4,
   "metadata": {},
   "outputs": [
    {
     "name": "stdout",
     "output_type": "stream",
     "text": [
      "Accuracy on bootstrapping: 0.962804794049\n",
      "Precision on bootstrapping: 0.964095371669\n",
      "Recall on bootstrapping: 0.960324112881\n",
      "F-1 on bootstrapping: 0.962206047032\n",
      "AUC on bootstrapping: 0.962770752093\n"
     ]
    }
   ],
   "source": [
    "print(\"Accuracy on bootstrapping:\", accuracy_score(y_test, y_pred))\n",
    "print(\"Precision on bootstrapping:\", precision_score(y_test, y_pred))\n",
    "print(\"Recall on bootstrapping:\", recall_score(y_test, y_pred))\n",
    "print(\"F-1 on bootstrapping:\", f1_score(y_test, y_pred))\n",
    "print(\"AUC on bootstrapping:\", roc_auc_score(y_test, y_pred))"
   ]
  },
  {
   "cell_type": "code",
   "execution_count": 5,
   "metadata": {
    "collapsed": true
   },
   "outputs": [],
   "source": [
    "# combine labels now all are \"observed\"\n",
    "y_all = np.concatenate((y_train,y_pred))\n",
    "x_all = np.concatenate((x_train,x_test))\n",
    "idx_all = np.concatenate((train_idx,test_idx))\n",
    "\n",
    "# y_pred_ic = np.zeros(x_test.shape[0]) \n",
    "\n",
    "testidx = x_all.shape[0]- x_test.shape[0]"
   ]
  },
  {
   "cell_type": "code",
   "execution_count": 6,
   "metadata": {},
   "outputs": [
    {
     "name": "stdout",
     "output_type": "stream",
     "text": [
      "CPU times: user 1h 49min 34s, sys: 964 ms, total: 1h 49min 35s\n",
      "Wall time: 1h 49min 35s\n"
     ]
    }
   ],
   "source": [
    "%%time\n",
    "\n",
    "# Burn in\n",
    "\n",
    "for j in range(10):\n",
    "    for i in range(x_test.shape[0]):\n",
    "    # for i in range(20):\n",
    "        observed_edges_idx = np.in1d(idx_all,adjacency[test_idx[i]])\n",
    "        o_edge_weights = edge_weights[test_idx[i]]\n",
    "\n",
    "#         clf = tree.DecisionTreeClassifier('entropy')\n",
    "        clf = RandomForestClassifier(criterion='entropy', n_estimators=50)\n",
    "        clf.fit(x_all[observed_edges_idx], y_all[observed_edges_idx], sample_weight=o_edge_weights)\n",
    "        y_all[testidx + i] = clf.predict(x_test[i].reshape(1, -1))"
   ]
  },
  {
   "cell_type": "code",
   "execution_count": 7,
   "metadata": {},
   "outputs": [
    {
     "name": "stdout",
     "output_type": "stream",
     "text": [
      "Accuracy on burn in: 0.963080314093\n",
      "Precision on burn in: 0.963336132102\n",
      "Recall on burn in: 0.96172115116\n",
      "F-1 on burn in: 0.962527964206\n",
      "AUC on burn in: 0.963061662536\n"
     ]
    }
   ],
   "source": [
    "print(\"Accuracy on burn in:\", accuracy_score(y_test, y_all[testidx:]))\n",
    "print(\"Precision on burn in:\", precision_score(y_test,y_all[testidx:]))\n",
    "print(\"Recall on burn in:\", recall_score(y_test, y_all[testidx:]))\n",
    "print(\"F-1 on burn in:\", f1_score(y_test, y_all[testidx:]))\n",
    "print(\"AUC on burn in:\", roc_auc_score(y_test, y_all[testidx:]))"
   ]
  },
  {
   "cell_type": "code",
   "execution_count": 8,
   "metadata": {},
   "outputs": [],
   "source": [
    "features = np.zeros(clf.feature_importances_.shape)\n",
    "counts = np.zeros(y_test.shape)\n",
    "prev = np.zeros(y_test.shape)"
   ]
  },
  {
   "cell_type": "code",
   "execution_count": 9,
   "metadata": {},
   "outputs": [
    {
     "ename": "ValueError",
     "evalue": "Unknown label type: 'continuous'",
     "output_type": "error",
     "traceback": [
      "\u001b[0;31m---------------------------------------------------------------------------\u001b[0m",
      "\u001b[0;31mValueError\u001b[0m                                Traceback (most recent call last)",
      "\u001b[0;32m<timed exec>\u001b[0m in \u001b[0;36m<module>\u001b[0;34m()\u001b[0m\n",
      "\u001b[0;32m~/anaconda3/lib/python3.5/site-packages/sklearn/ensemble/forest.py\u001b[0m in \u001b[0;36mfit\u001b[0;34m(self, X, y, sample_weight)\u001b[0m\n\u001b[1;32m    270\u001b[0m         \u001b[0mself\u001b[0m\u001b[0;34m.\u001b[0m\u001b[0mn_outputs_\u001b[0m \u001b[0;34m=\u001b[0m \u001b[0my\u001b[0m\u001b[0;34m.\u001b[0m\u001b[0mshape\u001b[0m\u001b[0;34m[\u001b[0m\u001b[0;36m1\u001b[0m\u001b[0;34m]\u001b[0m\u001b[0;34m\u001b[0m\u001b[0m\n\u001b[1;32m    271\u001b[0m \u001b[0;34m\u001b[0m\u001b[0m\n\u001b[0;32m--> 272\u001b[0;31m         \u001b[0my\u001b[0m\u001b[0;34m,\u001b[0m \u001b[0mexpanded_class_weight\u001b[0m \u001b[0;34m=\u001b[0m \u001b[0mself\u001b[0m\u001b[0;34m.\u001b[0m\u001b[0m_validate_y_class_weight\u001b[0m\u001b[0;34m(\u001b[0m\u001b[0my\u001b[0m\u001b[0;34m)\u001b[0m\u001b[0;34m\u001b[0m\u001b[0m\n\u001b[0m\u001b[1;32m    273\u001b[0m \u001b[0;34m\u001b[0m\u001b[0m\n\u001b[1;32m    274\u001b[0m         \u001b[0;32mif\u001b[0m \u001b[0mgetattr\u001b[0m\u001b[0;34m(\u001b[0m\u001b[0my\u001b[0m\u001b[0;34m,\u001b[0m \u001b[0;34m\"dtype\"\u001b[0m\u001b[0;34m,\u001b[0m \u001b[0;32mNone\u001b[0m\u001b[0;34m)\u001b[0m \u001b[0;34m!=\u001b[0m \u001b[0mDOUBLE\u001b[0m \u001b[0;32mor\u001b[0m \u001b[0;32mnot\u001b[0m \u001b[0my\u001b[0m\u001b[0;34m.\u001b[0m\u001b[0mflags\u001b[0m\u001b[0;34m.\u001b[0m\u001b[0mcontiguous\u001b[0m\u001b[0;34m:\u001b[0m\u001b[0;34m\u001b[0m\u001b[0m\n",
      "\u001b[0;32m~/anaconda3/lib/python3.5/site-packages/sklearn/ensemble/forest.py\u001b[0m in \u001b[0;36m_validate_y_class_weight\u001b[0;34m(self, y)\u001b[0m\n\u001b[1;32m    467\u001b[0m \u001b[0;34m\u001b[0m\u001b[0m\n\u001b[1;32m    468\u001b[0m     \u001b[0;32mdef\u001b[0m \u001b[0m_validate_y_class_weight\u001b[0m\u001b[0;34m(\u001b[0m\u001b[0mself\u001b[0m\u001b[0;34m,\u001b[0m \u001b[0my\u001b[0m\u001b[0;34m)\u001b[0m\u001b[0;34m:\u001b[0m\u001b[0;34m\u001b[0m\u001b[0m\n\u001b[0;32m--> 469\u001b[0;31m         \u001b[0mcheck_classification_targets\u001b[0m\u001b[0;34m(\u001b[0m\u001b[0my\u001b[0m\u001b[0;34m)\u001b[0m\u001b[0;34m\u001b[0m\u001b[0m\n\u001b[0m\u001b[1;32m    470\u001b[0m \u001b[0;34m\u001b[0m\u001b[0m\n\u001b[1;32m    471\u001b[0m         \u001b[0my\u001b[0m \u001b[0;34m=\u001b[0m \u001b[0mnp\u001b[0m\u001b[0;34m.\u001b[0m\u001b[0mcopy\u001b[0m\u001b[0;34m(\u001b[0m\u001b[0my\u001b[0m\u001b[0;34m)\u001b[0m\u001b[0;34m\u001b[0m\u001b[0m\n",
      "\u001b[0;32m~/anaconda3/lib/python3.5/site-packages/sklearn/utils/multiclass.py\u001b[0m in \u001b[0;36mcheck_classification_targets\u001b[0;34m(y)\u001b[0m\n\u001b[1;32m    170\u001b[0m     if y_type not in ['binary', 'multiclass', 'multiclass-multioutput',\n\u001b[1;32m    171\u001b[0m                       'multilabel-indicator', 'multilabel-sequences']:\n\u001b[0;32m--> 172\u001b[0;31m         \u001b[0;32mraise\u001b[0m \u001b[0mValueError\u001b[0m\u001b[0;34m(\u001b[0m\u001b[0;34m\"Unknown label type: %r\"\u001b[0m \u001b[0;34m%\u001b[0m \u001b[0my_type\u001b[0m\u001b[0;34m)\u001b[0m\u001b[0;34m\u001b[0m\u001b[0m\n\u001b[0m\u001b[1;32m    173\u001b[0m \u001b[0;34m\u001b[0m\u001b[0m\n\u001b[1;32m    174\u001b[0m \u001b[0;34m\u001b[0m\u001b[0m\n",
      "\u001b[0;31mValueError\u001b[0m: Unknown label type: 'continuous'"
     ]
    }
   ],
   "source": [
    "%%time\n",
    "\n",
    "# Iterative classification after burn in\n",
    "\n",
    "iters = 50\n",
    "\n",
    "for j in range(iters):\n",
    "    for i in range(x_test.shape[0]):\n",
    "    # for i in range(20):\n",
    "        observed_edges_idx = np.in1d(idx_all,adjacency[test_idx[i]])\n",
    "        o_edge_weights = edge_weights[test_idx[i]]\n",
    "\n",
    "#         clf = tree.DecisionTreeClassifier('entropy')\n",
    "        clf = RandomForestClassifier(criterion='entropy', n_estimators=50)\n",
    "        clf.fit(x_all[observed_edges_idx], y_all[observed_edges_idx], sample_weight=o_edge_weights)\n",
    "        prev[i] = clf.predict(x_test[i].reshape(1, -1))\n",
    "        counts[i] = counts[i] + prev[i]\n",
    "        y_all[testidx + i] = counts[i]\n",
    "        features = features + clf.feature_importances_"
   ]
  },
  {
   "cell_type": "code",
   "execution_count": 10,
   "metadata": {
    "collapsed": true
   },
   "outputs": [],
   "source": [
    "# assigning labels\n",
    "\n",
    "counts_pos = counts > 0\n",
    "counts_neg = counts < 0\n",
    "counts_neu = counts == 0\n",
    "\n",
    "counts[counts_pos] = 1\n",
    "counts[counts_neg] = -1\n",
    "counts[counts_neu] = prev[counts_neu]\n",
    "\n",
    "y_all[testidx:] = counts"
   ]
  },
  {
   "cell_type": "code",
   "execution_count": null,
   "metadata": {},
   "outputs": [],
   "source": [
    "# Accuracy on burn in: 0.963080314093\n",
    "# Precision on burn in: 0.963336132102\n",
    "# Recall on burn in: 0.96172115116\n",
    "# F-1 on burn in: 0.962527964206\n",
    "# AUC on burn in: 0.963061662536"
   ]
  },
  {
   "cell_type": "code",
   "execution_count": 11,
   "metadata": {},
   "outputs": [
    {
     "name": "stdout",
     "output_type": "stream",
     "text": [
      "Accuracy on final: 0.965284474446\n",
      "Precision on final: 0.965314685315\n",
      "Recall on final: 0.964235820061\n",
      "F-1 on final: 0.964774951076\n",
      "AUC on final: 0.965270083944\n"
     ]
    }
   ],
   "source": [
    "print(\"Accuracy on final:\", accuracy_score(y_test, y_all[testidx:]))\n",
    "print(\"Precision on final:\", precision_score(y_test,y_all[testidx:]))\n",
    "print(\"Recall on final:\", recall_score(y_test, y_all[testidx:]))\n",
    "print(\"F-1 on final:\", f1_score(y_test, y_all[testidx:]))\n",
    "print(\"AUC on final:\", roc_auc_score(y_test, y_all[testidx:]))"
   ]
  },
  {
   "cell_type": "code",
   "execution_count": 40,
   "metadata": {},
   "outputs": [],
   "source": [
    "data_f = data_c.copy()\n",
    "\n",
    "data_f = data_f.rename(index=str, columns={'ALL_RLA00NUMVALID_1314': 'Number of Students'})\n",
    "\n",
    "# data_f['Number of Students']"
   ]
  },
  {
   "cell_type": "code",
   "execution_count": 69,
   "metadata": {},
   "outputs": [],
   "source": [
    "f = features/(i*x_test.shape[0]) * 100\n",
    "# f = (f - np.min(f))/(np.max(f)-np.min(f))\n",
    "fs = np.argsort(f)[::-1]\n",
    "var = data_f.drop(['prof'],axis=1).columns\n",
    "var[fs[:30]] # top 20 features\n",
    "var2 = np.array(var.tolist())\n",
    "var2[fs[9]] = var2[fs[10]]\n",
    "var = var2"
   ]
  },
  {
   "cell_type": "code",
   "execution_count": 72,
   "metadata": {},
   "outputs": [
    {
     "data": {
      "image/png": "[encoded data removed]",
      "text/plain": [
       "<matplotlib.figure.Figure at 0x7fbacd3ed780>"
      ]
     },
     "metadata": {},
     "output_type": "display_data"
    }
   ],
   "source": [
    "plt.rcParams.update({'font.size': 20})\n",
    "\n",
    "importances = f\n",
    "\n",
    "# std = np.std([tree.feature_importances_ for tree in forest.estimators_],\n",
    "#              axis=0)\n",
    "indices = np.argsort(importances)[::-1]\n",
    "\n",
    "num_features = 10\n",
    "\n",
    "plt.figure(figsize=(10,10), dpi=100)\n",
    "# plt.title(\"Feature importances\")\n",
    "# plt.bar(range(num_features), importances[indices[:num_features]],\n",
    "#        color=\"r\", yerr=std[indices[:num_features]], align=\"center\")\n",
    "\n",
    "plt.bar(range(num_features), importances[indices[:num_features]],\n",
    "       color=\"r\", align=\"center\")\n",
    "\n",
    "plt.xticks(range(num_features), var2[indices[:num_features]], rotation='vertical')\n",
    "plt.xlim([-1,num_features])\n",
    "plt.ylabel(\"Gini Importance\")\n",
    "plt.ylim([0, 0.040])\n",
    "\n",
    "plt.tight_layout()\n",
    "\n",
    "plt.savefig(\"images/features_gs.eps\", format=\"eps\", dpi=1000)\n",
    "\n",
    "plt.show()\n",
    "\n",
    "\n",
    "\n",
    "# importances[indices[:num_features]]\n",
    "# std[indices[:num_features]]\n",
    "\n",
    "# range(x.shape[1])"
   ]
  },
  {
   "cell_type": "code",
   "execution_count": null,
   "metadata": {
    "collapsed": true
   },
   "outputs": [],
   "source": []
  },
  {
   "cell_type": "code",
   "execution_count": null,
   "metadata": {
    "collapsed": true
   },
   "outputs": [],
   "source": []
  },
  {
   "cell_type": "code",
   "execution_count": null,
   "metadata": {
    "collapsed": true
   },
   "outputs": [],
   "source": []
  }
 ],
 "metadata": {
  "kernelspec": {
   "display_name": "Python 3",
   "language": "python",
   "name": "python3"
  },
  "language_info": {
   "codemirror_mode": {
    "name": "ipython",
    "version": 3
   },
   "file_extension": ".py",
   "mimetype": "text/x-python",
   "name": "python",
   "nbconvert_exporter": "python",
   "pygments_lexer": "ipython3",
   "version": "3.5.4"
  }
 },
 "nbformat": 4,
 "nbformat_minor": 2
}
