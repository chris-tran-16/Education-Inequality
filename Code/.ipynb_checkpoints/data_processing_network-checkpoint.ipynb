{
 "cells": [
  {
   "cell_type": "code",
   "execution_count": 6,
   "metadata": {
    "collapsed": true
   },
   "outputs": [],
   "source": [
    "import pandas as pd\n",
    "import numpy as np\n",
    "import pickle\n",
    "from sys import getsizeof\n",
    "\n",
    "data_dir = 'data/final_data/'"
   ]
  },
  {
   "cell_type": "code",
   "execution_count": 7,
   "metadata": {
    "collapsed": false
   },
   "outputs": [
    {
     "name": "stderr",
     "output_type": "stream",
     "text": [
      "/Users/Kanetsugu/anaconda/lib/python3.5/site-packages/IPython/core/interactiveshell.py:2717: DtypeWarning: Columns (5,6,9) have mixed types. Specify dtype option on import or set low_memory=False.\n",
      "  interactivity=interactivity, compiler=compiler, result=result)\n"
     ]
    },
    {
     "data": {
      "text/plain": [
       "['SURVYEAR',\n",
       " 'NCESSCH',\n",
       " 'LEAID',\n",
       " 'SCHNO',\n",
       " 'STID',\n",
       " 'SEASCH',\n",
       " 'LEANM',\n",
       " 'SCHNAM',\n",
       " 'PHONE',\n",
       " 'MSTREE',\n",
       " 'MCITY',\n",
       " 'MSTATE',\n",
       " 'MZIP',\n",
       " 'MZIP4',\n",
       " 'LSTREE',\n",
       " 'LCITY',\n",
       " 'LZIP',\n",
       " 'LZIP4',\n",
       " 'CONUM',\n",
       " 'CONAME',\n",
       " 'CDCODE']"
      ]
     },
     "execution_count": 7,
     "metadata": {},
     "output_type": "execute_result"
    }
   ],
   "source": [
    "data_r = pd.read_csv(data_dir + 'data_binary.csv')\n",
    "\n",
    "data_cols = data_r.columns\n",
    "colsr1 = data_cols[0:20]\n",
    "# colsr2 = data_cols[3:20]\n",
    "colsr3 = data_cols[26:29]\n",
    "data_cols_r1 = colsr1.append(colsr3)\n",
    "\n",
    "keep = ['FIPST', 'LSTATE']\n",
    "\n",
    "data_cols_r1 = [i for i in data_cols_r1 if i not in keep]\n",
    "\n",
    "data_cols_r1"
   ]
  },
  {
   "cell_type": "code",
   "execution_count": 8,
   "metadata": {
    "collapsed": false
   },
   "outputs": [
    {
     "name": "stdout",
     "output_type": "stream",
     "text": [
      "(36295, 421)\n"
     ]
    }
   ],
   "source": [
    "data_n = data_r.drop(data_cols_r1, axis=1)\n",
    "print(data_n.shape)\n",
    "data_n = data_n.rename(columns={'FIPST': 'state', 'LSTATE': 'state_name'})\n",
    "data_n['index'] = data_n.index"
   ]
  },
  {
   "cell_type": "code",
   "execution_count": 9,
   "metadata": {
    "collapsed": true
   },
   "outputs": [],
   "source": [
    "# data_n[8520:8540]"
   ]
  },
  {
   "cell_type": "code",
   "execution_count": 10,
   "metadata": {
    "collapsed": true
   },
   "outputs": [],
   "source": [
    "def distance(lat1, lon1, lat2, lon2):\n",
    "    R = 3961\n",
    "\n",
    "    lat1 = np.radians(lat1)\n",
    "    lon1 = np.radians(lon1)\n",
    "    lat2 = np.radians(lat2)\n",
    "    lon2 = np.radians(lon2)\n",
    "\n",
    "    dlon = lon2 - lon1\n",
    "    dlat = lat2 - lat1\n",
    "\n",
    "    a = np.sin(dlat / 2)**2 + np.cos(lat1) * np.cos(lat2) * np.sin(dlon / 2)**2\n",
    "    c = 2 * np.arctan2(np.sqrt(a), np.sqrt(1 - a))\n",
    "\n",
    "    distance = R * c\n",
    "    \n",
    "    return distance"
   ]
  },
  {
   "cell_type": "code",
   "execution_count": 11,
   "metadata": {
    "collapsed": true
   },
   "outputs": [],
   "source": [
    "# def create_network(data_n, percent_edges=.2):\n",
    "    \n",
    "#     dist_eps=.01\n",
    "    \n",
    "#     norm_eps1=.01\n",
    "#     norm_eps2=.1\n",
    "    \n",
    "#     adjacency = list()\n",
    "#     edge_weights = list()\n",
    "\n",
    "#     for i in range(data_n.shape[0]):\n",
    "        \n",
    "#         idx = (data_n['state'] == data_n['state'][i]) & (data_n['index'] != i)\n",
    "        \n",
    "#         edge_idx = data_n['index'][idx].as_matrix()\n",
    "\n",
    "#         dist = 1/(distance(data_n['LATCOD'][idx], data_n['LONCOD'][idx], data_n['LATCOD'][i], data_n['LONCOD'][i]) + dist_eps)\n",
    "#         dist = (dist - dist.min() + norm_eps1)/(dist.max() - dist.min() + norm_eps2)\n",
    "#         dist = dist.as_matrix()\n",
    "\n",
    "#         sort_idx = np.argsort(dist)[::-1]\n",
    "\n",
    "#         sort_idx = sort_idx[:np.int(np.ceil(percent_edges*sort_idx.shape[0]))]\n",
    "\n",
    "#         adjacency.append(edge_idx[sort_idx])\n",
    "#         edge_weights.append(dist[sort_idx])\n",
    "        \n",
    "#     return adjacency, edge_weights\n",
    "\n",
    "def create_network(data_n, num_edges=5):\n",
    "    \"\"\"\n",
    "    data_n: the dataset to create the network on\n",
    "    \n",
    "    num_edges: the number of edges to retain when creating the school network.\n",
    "        values between 0 and 1 will retain a percentage while values greater than 1\n",
    "        will use that number of edges\n",
    "    \"\"\"\n",
    "    \n",
    "    dist_eps=.01\n",
    "    \n",
    "    norm_eps1=.01\n",
    "    norm_eps2=.1\n",
    "    \n",
    "    adjacency = list()\n",
    "    edge_weights = list()\n",
    "\n",
    "    for i in range(data_n.shape[0]):\n",
    "        \n",
    "        idx = (data_n['state'] == data_n['state'][i]) & (data_n['index'] != i)\n",
    "        \n",
    "        edge_idx = data_n['index'][idx].as_matrix()\n",
    "\n",
    "        dist = 1/(distance(data_n['LATCOD'][idx], data_n['LONCOD'][idx], data_n['LATCOD'][i], data_n['LONCOD'][i]) + dist_eps)\n",
    "        dist = (dist - dist.min() + norm_eps1)/(dist.max() - dist.min() + norm_eps2)\n",
    "        dist = dist.as_matrix()\n",
    "\n",
    "        sort_idx = np.argsort(dist)[::-1]\n",
    "\n",
    "        if num_edges < 1: \n",
    "            sort_idx = sort_idx[:np.int(np.ceil(percent_edges*sort_idx.shape[0]))]\n",
    "        else:\n",
    "            sort_idx = sort_idx[:num_edges]\n",
    "\n",
    "        adjacency.append(edge_idx[sort_idx])\n",
    "        edge_weights.append(dist[sort_idx])\n",
    "        \n",
    "    return adjacency, edge_weights"
   ]
  },
  {
   "cell_type": "code",
   "execution_count": 12,
   "metadata": {
    "collapsed": false
   },
   "outputs": [
    {
     "name": "stdout",
     "output_type": "stream",
     "text": [
      "CPU times: user 3min 38s, sys: 661 ms, total: 3min 39s\n",
      "Wall time: 3min 39s\n"
     ]
    }
   ],
   "source": [
    "%%time\n",
    "\n",
    "network_name = 'network_'\n",
    "\n",
    "num_edges = 4\n",
    "\n",
    "file_name = network_name + str(num_edges) + '.pkl'\n",
    "\n",
    "with open(data_dir + file_name, 'wb') as f:\n",
    "    adjacency, edge_weights = create_network(data_n, num_edges=num_edges)\n",
    "    adjacency = np.array(adjacency)\n",
    "    edge_weights = np.array(edge_weights)\n",
    "    pickle.dump([adjacency, edge_weights], f, protocol=-1)"
   ]
  },
  {
   "cell_type": "code",
   "execution_count": 13,
   "metadata": {
    "collapsed": true
   },
   "outputs": [],
   "source": [
    "data_nf = data_n.drop(['index'], axis=1)\n",
    "\n",
    "data_nf.to_csv(data_dir + 'data_n.csv', index=False, encoding='utf-8')"
   ]
  },
  {
   "cell_type": "code",
   "execution_count": null,
   "metadata": {
    "collapsed": true
   },
   "outputs": [],
   "source": []
  }
 ],
 "metadata": {
  "anaconda-cloud": {},
  "kernelspec": {
   "display_name": "Python [default]",
   "language": "python",
   "name": "python3"
  },
  "language_info": {
   "codemirror_mode": {
    "name": "ipython",
    "version": 3
   },
   "file_extension": ".py",
   "mimetype": "text/x-python",
   "name": "python",
   "nbconvert_exporter": "python",
   "pygments_lexer": "ipython3",
   "version": "3.5.4"
  }
 },
 "nbformat": 4,
 "nbformat_minor": 2
}
