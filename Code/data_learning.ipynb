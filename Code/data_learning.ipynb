{
 "cells": [
  {
   "cell_type": "code",
   "execution_count": 25,
   "metadata": {
    "collapsed": true
   },
   "outputs": [],
   "source": [
    "import pandas as pd\n",
    "import numpy as np\n",
    "import matplotlib.pyplot as plt\n",
    "from sklearn import tree\n",
    "from sklearn.utils import shuffle\n",
    "from sklearn.model_selection import cross_validate\n",
    "from sklearn.feature_selection import RFECV\n",
    "from sklearn.ensemble import RandomForestClassifier\n",
    "# from xgboost import XGBClassifier\n",
    "from sklearn.model_selection import GridSearchCV\n",
    "from sklearn.model_selection import train_test_split\n",
    "from sklearn.metrics import accuracy_score, f1_score, roc_auc_score, precision_score, recall_score\n",
    "import pickle\n",
    "from sklearn.model_selection import LeaveOneOut\n",
    "from sklearn.naive_bayes import GaussianNB, MultinomialNB\n",
    "from sklearn.neighbors import KNeighborsClassifier\n",
    "\n",
    "data_dir = 'data/final_data/'"
   ]
  },
  {
   "cell_type": "markdown",
   "metadata": {},
   "source": [
    "# On the binary data"
   ]
  },
  {
   "cell_type": "code",
   "execution_count": 2,
   "metadata": {
    "collapsed": false
   },
   "outputs": [
    {
     "name": "stdout",
     "output_type": "stream",
     "text": [
      "(36295, 442)\n"
     ]
    },
    {
     "name": "stderr",
     "output_type": "stream",
     "text": [
      "/Users/Kanetsugu/anaconda/lib/python3.5/site-packages/IPython/core/interactiveshell.py:2717: DtypeWarning: Columns (5,6,9) have mixed types. Specify dtype option on import or set low_memory=False.\n",
      "  interactivity=interactivity, compiler=compiler, result=result)\n"
     ]
    }
   ],
   "source": [
    "data_r = pd.read_csv(data_dir + 'data_binary.csv')\n",
    "# data_r = pd.read_csv('data/final_data/data.csv')\n",
    "print(data_r.shape)"
   ]
  },
  {
   "cell_type": "code",
   "execution_count": 3,
   "metadata": {
    "collapsed": false
   },
   "outputs": [
    {
     "name": "stdout",
     "output_type": "stream",
     "text": [
      "Index(['SURVYEAR', 'NCESSCH', 'FIPST', 'LEAID', 'SCHNO', 'STID', 'SEASCH',\n",
      "       'LEANM', 'SCHNAM', 'PHONE', 'MSTREE', 'MCITY', 'MSTATE', 'MZIP',\n",
      "       'MZIP4', 'LSTREE', 'LCITY', 'LSTATE', 'LZIP', 'LZIP4', 'CONUM',\n",
      "       'CONAME', 'CDCODE', 'LATCOD', 'LONCOD'],\n",
      "      dtype='object')\n"
     ]
    }
   ],
   "source": [
    "# non-important information\n",
    "data_cols = data_r.columns\n",
    "cols1 = data_cols[0:20]\n",
    "cols2 = data_cols[26:29]\n",
    "cols3 = []\n",
    "cols3 = data_cols[24:26]\n",
    "data_cols_r = cols1.append(cols2).append(cols3)\n",
    "\n",
    "print(data_cols_r)"
   ]
  },
  {
   "cell_type": "code",
   "execution_count": 4,
   "metadata": {
    "collapsed": true
   },
   "outputs": [],
   "source": [
    "data = data_r.drop(data_cols_r, axis=1)"
   ]
  },
  {
   "cell_type": "code",
   "execution_count": 6,
   "metadata": {
    "collapsed": false,
    "scrolled": true
   },
   "outputs": [
    {
     "data": {
      "text/plain": [
       "(36295, 417)"
      ]
     },
     "execution_count": 6,
     "metadata": {},
     "output_type": "execute_result"
    }
   ],
   "source": [
    "data.shape"
   ]
  },
  {
   "cell_type": "code",
   "execution_count": 7,
   "metadata": {
    "collapsed": false
   },
   "outputs": [
    {
     "name": "stdout",
     "output_type": "stream",
     "text": [
      "False\n",
      "True\n"
     ]
    }
   ],
   "source": [
    "# param_grid = {'max_depth': np.arange(6, 30), 'criterion': ['gini', 'entropy'], 'max_features': np.arange(1,x.shape[1])}\n",
    "# tree_g = GridSearchCV(tree.DecisionTreeClassifier(), param_grid, cv=10, scoring=scoring_methods, n_jobs=4, refit='f1')\n",
    "# tree_g.fit(x, y)\n",
    "# tree_g.best_params_\n",
    "\n",
    "print(np.any(np.isnan(data['avg_teacher_salary'])))\n",
    "print(np.all(np.isfinite(data['avg_teacher_salary'])))"
   ]
  },
  {
   "cell_type": "code",
   "execution_count": 8,
   "metadata": {
    "collapsed": true
   },
   "outputs": [],
   "source": [
    "data_nolabs = data.drop(['prof'], axis=1)\n",
    "\n",
    "x = data_nolabs.as_matrix()\n",
    "y = data['prof'].as_matrix()\n",
    "\n",
    "var = data_nolabs.columns"
   ]
  },
  {
   "cell_type": "code",
   "execution_count": 9,
   "metadata": {
    "collapsed": false
   },
   "outputs": [
    {
     "name": "stdout",
     "output_type": "stream",
     "text": [
      "(36295, 416)\n",
      "(36295,)\n"
     ]
    }
   ],
   "source": [
    "print(x.shape)\n",
    "print(y.shape)\n",
    "\n",
    "x, y = shuffle(x, y, random_state=0)\n",
    "\n",
    "scoring_methods = {'accuracy': 'accuracy', 'f1': 'f1', 'roc_auc': 'roc_auc'}\n",
    "# scoring_methods = {'accuracy': 'accuracy', 'f1': 'f1_macro'}"
   ]
  },
  {
   "cell_type": "code",
   "execution_count": 27,
   "metadata": {
    "collapsed": false
   },
   "outputs": [],
   "source": [
    "# mnb = MultinomialNB()\n",
    "\n",
    "# nb_scores = cross_validate(mnb, x, y, cv=10, scoring='accuracy')\n",
    "\n",
    "# nb_scores"
   ]
  },
  {
   "cell_type": "code",
   "execution_count": 10,
   "metadata": {
    "collapsed": false
   },
   "outputs": [
    {
     "data": {
      "text/plain": [
       "{'fit_time': array([ 6.22379589,  7.34247589,  5.96488404,  6.24290013,  9.0015831 ,\n",
       "         5.77309799,  5.64375997,  5.73633814,  5.64749002,  5.56681609]),\n",
       " 'score_time': array([ 0.02534199,  0.02015305,  0.01532412,  0.01669502,  0.01593804,\n",
       "         0.02123499,  0.01553297,  0.01497293,  0.01659703,  0.01492882]),\n",
       " 'test_accuracy': array([ 0.94352617,  0.94903581,  0.94325069,  0.94848485,  0.93856749,\n",
       "         0.94407713,  0.94407713,  0.94929733,  0.94487321,  0.94459757]),\n",
       " 'test_f1': array([ 0.94246422,  0.94819378,  0.94226457,  0.94818509,  0.9379694 ,\n",
       "         0.9430575 ,  0.94315318,  0.94866071,  0.94438265,  0.94374475]),\n",
       " 'test_roc_auc': array([ 0.94345094,  0.94899198,  0.94319438,  0.94858513,  0.93861276,\n",
       "         0.94400959,  0.94403237,  0.94931055,  0.94493113,  0.94456805])}"
      ]
     },
     "execution_count": 10,
     "metadata": {},
     "output_type": "execute_result"
    }
   ],
   "source": [
    "clf_tree = tree.DecisionTreeClassifier(criterion='entropy')\n",
    "clf_tree.fit(x, y)\n",
    "tree_scores = cross_validate(clf_tree, x,  y, cv=10, return_train_score=False, \n",
    "                             scoring=scoring_methods)\n",
    "tree_scores"
   ]
  },
  {
   "cell_type": "code",
   "execution_count": 14,
   "metadata": {
    "collapsed": false
   },
   "outputs": [
    {
     "name": "stdout",
     "output_type": "stream",
     "text": [
      "Avg Accuracy: 0.944978739363\n",
      "Avg F-1 Score: 0.944207586343\n",
      "Avg AUC: 0.944968688485\n"
     ]
    }
   ],
   "source": [
    "print(\"Avg Accuracy:\", np.mean(tree_scores['test_accuracy']))\n",
    "print(\"Avg F-1 Score:\", np.mean(tree_scores['test_f1']))\n",
    "print(\"Avg AUC:\", np.mean(tree_scores['test_roc_auc']))"
   ]
  },
  {
   "cell_type": "code",
   "execution_count": 12,
   "metadata": {
    "collapsed": false
   },
   "outputs": [
    {
     "data": {
      "text/plain": [
       "Index(['child_poverty', 'MAGNET', 'WHALF', 'SHARED', 'C38', 'C08', 'C04',\n",
       "       'FRELCH', 'C10', 'ALL_RLA00NUMVALID_1314', 'C35', 'A07', 'LEVEL', 'C12',\n",
       "       'CHARTR', 'C24', 'A13', 'ALL_MTH00NUMVALID_1314'],\n",
       "      dtype='object')"
      ]
     },
     "execution_count": 12,
     "metadata": {},
     "output_type": "execute_result"
    }
   ],
   "source": [
    "tb = np.sort(clf_tree.feature_importances_)[::-1]\n",
    "ta = np.argsort(clf_tree.feature_importances_)[::-1]\n",
    "\n",
    "var[ta[tb>=.01]]"
   ]
  },
  {
   "cell_type": "raw",
   "metadata": {},
   "source": [
    "rfe = RFECV(clf_tree, cv=5, n_jobs=4, step=.1)\n",
    "rfe = rfe.fit(x, y)\n",
    "# summarize the selection of the attributes"
   ]
  },
  {
   "cell_type": "raw",
   "metadata": {},
   "source": [
    "print(var[rfe.support_])\n",
    "# print(rfe.ranking_)"
   ]
  },
  {
   "cell_type": "code",
   "execution_count": 13,
   "metadata": {
    "collapsed": false
   },
   "outputs": [
    {
     "data": {
      "text/plain": [
       "DecisionTreeClassifier(class_weight=None, criterion='entropy', max_depth=None,\n",
       "            max_features=None, max_leaf_nodes=None,\n",
       "            min_impurity_decrease=0.0, min_impurity_split=None,\n",
       "            min_samples_leaf=1, min_samples_split=2,\n",
       "            min_weight_fraction_leaf=0.0, presort=False, random_state=None,\n",
       "            splitter='best')"
      ]
     },
     "execution_count": 13,
     "metadata": {},
     "output_type": "execute_result"
    }
   ],
   "source": [
    "clf_tree"
   ]
  },
  {
   "cell_type": "code",
   "execution_count": 14,
   "metadata": {
    "collapsed": false
   },
   "outputs": [
    {
     "name": "stdout",
     "output_type": "stream",
     "text": [
      "Wall time: 3min 47s\n"
     ]
    }
   ],
   "source": [
    "%%time\n",
    "\n",
    "clf_rf = RandomForestClassifier(n_estimators=100)\n",
    "clf_rf.fit(x, y)\n",
    "rf_scores = cross_validate(clf_rf, x,  y, cv=10, return_train_score=False, \n",
    "                          scoring=scoring_methods)\n",
    "rf_scores"
   ]
  },
  {
   "cell_type": "code",
   "execution_count": 15,
   "metadata": {
    "collapsed": false
   },
   "outputs": [
    {
     "name": "stdout",
     "output_type": "stream",
     "text": [
      "Avg Accuracy: 0.970023569549\n",
      "Avg F-1 Score: 0.969334385985\n",
      "Avg AUC: 0.995089588079\n"
     ]
    }
   ],
   "source": [
    "print(\"Avg Accuracy:\", np.mean(rf_scores['test_accuracy']))\n",
    "print(\"Avg F-1 Score:\", np.mean(rf_scores['test_f1']))\n",
    "print(\"Avg AUC:\", np.mean(rf_scores['test_roc_auc']))"
   ]
  },
  {
   "cell_type": "code",
   "execution_count": 16,
   "metadata": {
    "collapsed": false
   },
   "outputs": [
    {
     "data": {
      "text/plain": [
       "Index(['child_poverty', 'MAGNET', 'C38', 'NSLPSTATUS', 'WHALF', 'C08', 'WHITE',\n",
       "       'WHALM', 'FRELCH', 'C12',\n",
       "       ...\n",
       "       'G08OFFRD', 'KGOFFRD', 'G05OFFRD', 'G03OFFRD', 'G04OFFRD', 'G01OFFRD',\n",
       "       'G02OFFRD', 'V85', 'BIES', 'WEIGHT'],\n",
       "      dtype='object', length=416)"
      ]
     },
     "execution_count": 16,
     "metadata": {},
     "output_type": "execute_result"
    }
   ],
   "source": [
    "rfb = np.sort(clf_rf.feature_importances_)[::-1]\n",
    "rfa = np.argsort(clf_rf.feature_importances_)[::-1]\n",
    "\n",
    "var[rfa]"
   ]
  },
  {
   "cell_type": "code",
   "execution_count": 17,
   "metadata": {
    "collapsed": false
   },
   "outputs": [
    {
     "data": {
      "text/plain": [
       "RandomForestClassifier(bootstrap=True, class_weight=None, criterion='gini',\n",
       "            max_depth=None, max_features='auto', max_leaf_nodes=None,\n",
       "            min_impurity_decrease=0.0, min_impurity_split=None,\n",
       "            min_samples_leaf=1, min_samples_split=2,\n",
       "            min_weight_fraction_leaf=0.0, n_estimators=100, n_jobs=1,\n",
       "            oob_score=False, random_state=None, verbose=0,\n",
       "            warm_start=False)"
      ]
     },
     "execution_count": 17,
     "metadata": {},
     "output_type": "execute_result"
    }
   ],
   "source": [
    "clf_rf # show parameters"
   ]
  },
  {
   "cell_type": "raw",
   "metadata": {},
   "source": [
    "clf_xgboost = XGBClassifier(learning_rate=.2, max_depth=6)\n",
    "clf_xgboost.fit(x, y)\n",
    "xgscores = cross_validate(clf_xgboost, x,  y, cv=10, return_train_score=False,\n",
    "                         scoring=scoring_methods)\n",
    "xgscores"
   ]
  },
  {
   "cell_type": "raw",
   "metadata": {},
   "source": [
    "print(\"Avg Accuracy:\", np.mean(xgscores['test_accuracy']))\n",
    "print(\"Avg F-1 Score:\", np.mean(xgscores['test_f1']))\n",
    "print(\"Avg AUC:\", np.mean(xgscores['test_roc_auc']))"
   ]
  },
  {
   "cell_type": "raw",
   "metadata": {},
   "source": [
    "xgb = np.sort(clf_xgboost.feature_importances_)[::-1]\n",
    "xga = np.argsort(clf_xgboost.feature_importances_)[::-1]\n",
    "\n",
    "var[xga]"
   ]
  },
  {
   "cell_type": "raw",
   "metadata": {},
   "source": [
    "clf_xgboost # show parameters"
   ]
  },
  {
   "cell_type": "markdown",
   "metadata": {},
   "source": [
    "# Test set evaulation"
   ]
  },
  {
   "cell_type": "code",
   "execution_count": 18,
   "metadata": {
    "collapsed": false
   },
   "outputs": [
    {
     "name": "stdout",
     "output_type": "stream",
     "text": [
      "(29036, 416)\n",
      "(29036,)\n",
      "(7259, 416)\n",
      "(7259,)\n"
     ]
    }
   ],
   "source": [
    "rf_model = RandomForestClassifier(n_estimators=100)\n",
    "# rf_model = RandomForestClassifier(criterion='entropy', max_features=.25, n_estimators=50, n_jobs=4)\n",
    "\n",
    "x_train, x_test, y_train, y_test = train_test_split(x, y, test_size=.2,stratify=y)\n",
    "\n",
    "print(x_train.shape)\n",
    "print(y_train.shape)\n",
    "print(x_test.shape)\n",
    "print(y_test.shape)"
   ]
  },
  {
   "cell_type": "code",
   "execution_count": 19,
   "metadata": {
    "collapsed": false
   },
   "outputs": [
    {
     "name": "stdout",
     "output_type": "stream",
     "text": [
      "Wall time: 17.3 s\n"
     ]
    },
    {
     "data": {
      "text/plain": [
       "RandomForestClassifier(bootstrap=True, class_weight=None, criterion='gini',\n",
       "            max_depth=None, max_features='auto', max_leaf_nodes=None,\n",
       "            min_impurity_decrease=0.0, min_impurity_split=None,\n",
       "            min_samples_leaf=1, min_samples_split=2,\n",
       "            min_weight_fraction_leaf=0.0, n_estimators=100, n_jobs=1,\n",
       "            oob_score=False, random_state=None, verbose=0,\n",
       "            warm_start=False)"
      ]
     },
     "execution_count": 19,
     "metadata": {},
     "output_type": "execute_result"
    }
   ],
   "source": [
    "%time rf_model.fit(x_train, y_train)"
   ]
  },
  {
   "cell_type": "code",
   "execution_count": 20,
   "metadata": {
    "collapsed": false
   },
   "outputs": [
    {
     "name": "stdout",
     "output_type": "stream",
     "text": [
      "Accuracy on test: 0.968177434908\n",
      "Precision on test: 0.975838544628\n",
      "Recall on test: 0.959206482258\n",
      "F-1 on test: 0.967451035649\n",
      "AUC on test: 0.968054328085\n"
     ]
    }
   ],
   "source": [
    "y_pred = rf_model.predict(x_test)\n",
    "print(\"Accuracy on test:\", accuracy_score(y_test, y_pred))\n",
    "print(\"Precision on test:\", precision_score(y_test, y_pred))\n",
    "print(\"Recall on test:\", recall_score(y_test, y_pred))\n",
    "print(\"F-1 on test:\", f1_score(y_test, y_pred))\n",
    "print(\"AUC on test:\", roc_auc_score(y_test, y_pred))"
   ]
  },
  {
   "cell_type": "code",
   "execution_count": 21,
   "metadata": {
    "collapsed": true
   },
   "outputs": [],
   "source": [
    "# rf_model.estimators_"
   ]
  },
  {
   "cell_type": "code",
   "execution_count": null,
   "metadata": {
    "collapsed": true
   },
   "outputs": [],
   "source": []
  },
  {
   "cell_type": "code",
   "execution_count": 31,
   "metadata": {
    "collapsed": false
   },
   "outputs": [
    {
     "data": {
      "image/png": "[encoded data removed]",
      "text/plain": [
       "<matplotlib.figure.Figure at 0x23603426f98>"
      ]
     },
     "metadata": {},
     "output_type": "display_data"
    }
   ],
   "source": [
    "plt.rcParams.update({'font.size': 20})\n",
    "\n",
    "forest = rf_model\n",
    "\n",
    "importances = forest.feature_importances_\n",
    "\n",
    "std = np.std([tree.feature_importances_ for tree in forest.estimators_],\n",
    "             axis=0)\n",
    "indices = np.argsort(importances)[::-1]\n",
    "\n",
    "# for f in range(x.shape[1]):\n",
    "#     print(\"%d. feature %d (%f)\" % (f + 1, indices[f], importances[indices[f]]))\n",
    "\n",
    "# Plot the feature importances of the forest\n",
    "\n",
    "num_features = 10\n",
    "\n",
    "plt.figure(figsize=(10,10), dpi=100)\n",
    "# plt.title(\"Feature importances\")\n",
    "# plt.bar(range(num_features), importances[indices[:num_features]],\n",
    "#        color=\"r\", yerr=std[indices[:num_features]], align=\"center\")\n",
    "plt.bar(range(num_features), importances[indices[:num_features]],\n",
    "       color=\"r\", align=\"center\")\n",
    "plt.xticks(range(num_features), var[indices[:num_features]], rotation='vertical')\n",
    "plt.xlim([-1,num_features])\n",
    "plt.ylabel(\"Gini Importance\")\n",
    "plt.ylim([0,0.040])\n",
    "\n",
    "plt.tight_layout()\n",
    "\n",
    "plt.savefig(\"images/features_rf.eps\", format=\"eps\", dpi=1000)\n",
    "\n",
    "plt.show()\n",
    "\n",
    "\n",
    "\n",
    "# importances[indices[:num_features]]\n",
    "# std[indices[:num_features]]\n",
    "\n",
    "# range(x.shape[1])"
   ]
  },
  {
   "cell_type": "code",
   "execution_count": 23,
   "metadata": {
    "collapsed": false
   },
   "outputs": [
    {
     "data": {
      "text/plain": [
       "Index(['child_poverty', 'MAGNET', 'C38', 'NSLPSTATUS', 'WHITE', 'WHALF',\n",
       "       'TOTFRL', 'C08', 'A13', 'FRELCH', 'WHALM', 'C12', 'ASIAN', 'C24', 'C39',\n",
       "       'T15', 'C13', 'STITLI', 'Z38', 'SHARED', 'T09', 'ASALF', 'TITLEISTAT',\n",
       "       'C05', 'T40', 'TNONELSE', 'TITLEI', 'C20', 'C06', 'V92', 'ASALM', 'C35',\n",
       "       'T99', 'V16', 'avg_teacher_salary', 'C36', 'C04', 'U30', 'VIRTUALSTAT',\n",
       "       'C10', 'C14', 'MEMBER', 'A07', 'U50', 'W31', 'T06', 'CHARTR',\n",
       "       'ALL_RLA00NUMVALID_1314', 'C07', 'TFEDREV', 'REDLCH'],\n",
       "      dtype='object')"
      ]
     },
     "execution_count": 23,
     "metadata": {},
     "output_type": "execute_result"
    }
   ],
   "source": [
    "rfb = np.sort(rf_model.feature_importances_)[::-1]\n",
    "rfa = np.argsort(rf_model.feature_importances_)[::-1]\n",
    "var[rfa[rfb>=.005]]"
   ]
  },
  {
   "cell_type": "code",
   "execution_count": 24,
   "metadata": {
    "collapsed": false
   },
   "outputs": [
    {
     "data": {
      "text/plain": [
       "array([ 0.0385964 ,  0.02933045,  0.02175115,  0.02074319,  0.01860632,\n",
       "        0.0178791 ,  0.01690539,  0.01667455,  0.01607825,  0.01519133,\n",
       "        0.01394625,  0.01386123,  0.01243527,  0.01223592,  0.01134317,\n",
       "        0.0112286 ,  0.01081664,  0.0103659 ,  0.01032034,  0.01020165,\n",
       "        0.0095891 ,  0.00941952,  0.00938073,  0.00889585,  0.00870241,\n",
       "        0.00868704,  0.00865496,  0.00806274,  0.00779754,  0.00740012,\n",
       "        0.00718729,  0.00705712,  0.00681835,  0.00667808,  0.0066521 ,\n",
       "        0.00644533,  0.00625457,  0.00620563,  0.00613816,  0.00605765,\n",
       "        0.00587681,  0.00554307,  0.00547894,  0.00546918,  0.00525921,\n",
       "        0.0051405 ,  0.00512409,  0.00508221,  0.00507366,  0.00503907,\n",
       "        0.00502415])"
      ]
     },
     "execution_count": 24,
     "metadata": {},
     "output_type": "execute_result"
    }
   ],
   "source": [
    "rfb[rfb >= .005]"
   ]
  },
  {
   "cell_type": "code",
   "execution_count": 25,
   "metadata": {
    "collapsed": false
   },
   "outputs": [
    {
     "data": {
      "text/plain": [
       "0.0"
      ]
     },
     "execution_count": 25,
     "metadata": {},
     "output_type": "execute_result"
    }
   ],
   "source": [
    "np.min(rfb)"
   ]
  },
  {
   "cell_type": "raw",
   "metadata": {
    "collapsed": true
   },
   "source": [
    "rf_mod2 = RandomForestClassifier(n_estimators=100)\n",
    "\n",
    "xt = x_train[:, rfb>=.005]\n",
    "xts = x_test[:, rfb>=.005]\n",
    "var2 = var[rfa[rfb>=.005]]"
   ]
  },
  {
   "cell_type": "raw",
   "metadata": {},
   "source": [
    "%time rf_mod2.fit(xt, y_train)"
   ]
  },
  {
   "cell_type": "raw",
   "metadata": {},
   "source": [
    "y_pred = rf_mod2.predict(xts)\n",
    "print(\"Accuracy on test:\", accuracy_score(y_test, y_pred))\n",
    "print(\"Precision on test:\", precision_score(y_test, y_pred))\n",
    "print(\"Recall on test:\", recall_score(y_test, y_pred))\n",
    "print(\"F-1 on test:\", f1_score(y_test, y_pred))\n",
    "print(\"AUC on test:\", roc_auc_score(y_test, y_pred))"
   ]
  },
  {
   "cell_type": "raw",
   "metadata": {},
   "source": [
    "rfb2 = np.sort(rf_mod2.feature_importances_)[::-1]\n",
    "rfa2 = np.argsort(rf_mod2.feature_importances_)[::-1]\n",
    "var2[rfa2[rfb2>0]]"
   ]
  },
  {
   "cell_type": "markdown",
   "metadata": {},
   "source": [
    "# Testing on networked data"
   ]
  },
  {
   "cell_type": "raw",
   "metadata": {
    "collapsed": true
   },
   "source": [
    "with open(data_dir + 'network.pkl', 'rb') as f:\n",
    "        adjacency, edge_weights = pickle.load(f)\n",
    "        \n",
    "data_n = pd.read_csv(data_dir + 'data_n')\n",
    "edge_weights = np.array(edge_weights)"
   ]
  },
  {
   "cell_type": "raw",
   "metadata": {
    "collapsed": true
   },
   "source": [
    "def get_majority(data, idx):\n",
    "    labels = data['prof'][idx]\n",
    "    (values,counts) = np.unique(labels,return_counts=True)\n",
    "    ind=np.argmax(counts)\n",
    "    majority_percent = (sum(labels == values[ind])) / (sum(labels == 1) + sum(labels == -1) + sum(labels == 0))\n",
    "    \n",
    "    return majority_percent"
   ]
  },
  {
   "cell_type": "raw",
   "metadata": {
    "collapsed": true
   },
   "source": [
    "states = data_n['state_name'].unique()\n",
    "diffs = np.zeros(len(states))\n",
    "size = np.zeros(diffs.shape)\n",
    "\n",
    "for i, state in enumerate(states):\n",
    "    diffs[i] = np.abs(.5 - get_majority(data_n, data_n['state_name'] == state))\n",
    "    size[i] = (data_n['state_name']==state).sum()"
   ]
  },
  {
   "cell_type": "raw",
   "metadata": {
    "collapsed": true
   },
   "source": [
    "idx = np.argsort(diffs)\n",
    "\n",
    "diffs_sort = diffs[idx]\n",
    "size_sort = size[idx]\n",
    "states_sort = states[idx]"
   ]
  },
  {
   "cell_type": "raw",
   "metadata": {
    "scrolled": true
   },
   "source": [
    "for i in range(diffs_sort.shape[0]):\n",
    "    print(\"%s\\t%d\\t%.4f\" %(states_sort[i], size_sort[i], diffs_sort[i]))"
   ]
  },
  {
   "cell_type": "markdown",
   "metadata": {},
   "source": [
    "# LOOCV on Vermont only"
   ]
  },
  {
   "cell_type": "raw",
   "metadata": {
    "collapsed": true
   },
   "source": [
    "data_vt = data_n[data_n['state_name'] == 'VT']\n",
    "data_vt = data_vt.drop(['state', 'state_name'], axis=1)\n",
    "edge_vt = edge_weights[data_n['state_name'] == 'VT']"
   ]
  },
  {
   "cell_type": "raw",
   "metadata": {
    "collapsed": true
   },
   "source": [
    "vt_labels = data_vt['prof'].as_matrix()\n",
    "vt_dat = data_vt.drop(['prof'],axis=1).as_matrix()"
   ]
  },
  {
   "cell_type": "raw",
   "metadata": {
    "collapsed": true
   },
   "source": [
    "loo = LeaveOneOut()\n",
    "\n",
    "# model = RandomForestClassifier(n_estimators=100)\n",
    "model = tree.DecisionTreeClassifier(criterion='entropy')\n",
    "\n",
    "# scores = np.zeros((vt_labels.shape[0], 4))\n",
    "y_pred = np.zeros(vt_labels.shape[0])\n",
    "\n",
    "i = 0\n",
    "\n",
    "for train_idx, test_idx in loo.split(vt_dat):\n",
    "    x_train = vt_dat[train_idx]\n",
    "    x_test = vt_dat[test_idx]\n",
    "    y_train = vt_labels[train_idx]\n",
    "    y_test = vt_labels[test_idx]\n",
    "    \n",
    "#     model.fit(x_train, y_train, sample_weight=edge_vt[i])\n",
    "    model.fit(x_train, y_train)\n",
    "    \n",
    "    y_pred[i] = model.predict(x_test)\n",
    "    \n",
    "    i = i + 1"
   ]
  },
  {
   "cell_type": "raw",
   "metadata": {},
   "source": [
    "scores = np.array([accuracy_score(vt_labels, y_pred), precision_score(vt_labels, y_pred), recall_score(vt_labels, y_pred),\n",
    "         f1_score(vt_labels, y_pred), roc_auc_score(vt_labels, y_pred)])\n",
    "\n",
    "print(\"Accuracy on test:\", scores[0])\n",
    "print(\"Precision on test:\", scores[1])\n",
    "print(\"Recall on test:\", scores[2])\n",
    "print(\"F-1 on test:\", scores[3])\n",
    "print(\"AUC on test:\", scores[4])"
   ]
  },
  {
   "cell_type": "markdown",
   "metadata": {},
   "source": [
    "# LOOCV on Massachusetts"
   ]
  },
  {
   "cell_type": "raw",
   "metadata": {
    "collapsed": true
   },
   "source": [
    "data_ma = data_n[data_n['state_name'] == 'MA']\n",
    "data_ma = data_ma.drop(['state', 'state_name'], axis=1)\n",
    "edge_ma = edge_weights[data_n['state_name'] == 'MA']"
   ]
  },
  {
   "cell_type": "raw",
   "metadata": {
    "collapsed": true
   },
   "source": [
    "ma_labels = data_ma['prof'].as_matrix()\n",
    "ma_dat = data_ma.drop(['prof'],axis=1).as_matrix()"
   ]
  },
  {
   "cell_type": "raw",
   "metadata": {},
   "source": [
    "%%time\n",
    "\n",
    "loo = LeaveOneOut()\n",
    "\n",
    "# model = RandomForestClassifier(n_estimators=100)\n",
    "model = tree.DecisionTreeClassifier(criterion='entropy')\n",
    "\n",
    "# scores = np.zeros((vt_labels.shape[0], 4))\n",
    "y_pred = np.zeros(ma_labels.shape[0])\n",
    "\n",
    "i = 0\n",
    "\n",
    "for train_idx, test_idx in loo.split(ma_dat):\n",
    "    x_train = ma_dat[train_idx]\n",
    "    x_test = ma_dat[test_idx]\n",
    "    y_train = ma_labels[train_idx]\n",
    "    y_test = ma_labels[test_idx]\n",
    "    \n",
    "    model.fit(x_train, y_train, sample_weight=edge_ma[i])\n",
    "#     model.fit(x_train, y_train)\n",
    "    \n",
    "    y_pred[i] = model.predict(x_test)\n",
    "    \n",
    "    i = i + 1"
   ]
  },
  {
   "cell_type": "raw",
   "metadata": {},
   "source": [
    "scores = np.array([accuracy_score(ma_labels, y_pred), precision_score(ma_labels, y_pred), recall_score(ma_labels, y_pred),\n",
    "         f1_score(ma_labels, y_pred), roc_auc_score(ma_labels, y_pred)])\n",
    "\n",
    "print(\"Accuracy on test:\", scores[0])\n",
    "print(\"Precision on test:\", scores[1])\n",
    "print(\"Recall on test:\", scores[2])\n",
    "print(\"F-1 on test:\", scores[3])\n",
    "print(\"AUC on test:\", scores[4])"
   ]
  },
  {
   "cell_type": "markdown",
   "metadata": {},
   "source": [
    "# LOOCV on States with < 70% majority no edge weights"
   ]
  },
  {
   "cell_type": "raw",
   "metadata": {},
   "source": [
    "# test_states = states_sort[(diffs_sort < .2) & (states_sort != 'MT')]\n",
    "test_states = states_sort[(states_sort != 'MT') & (states_sort != 'ND')]\n",
    "\n",
    "test_states.shape"
   ]
  },
  {
   "cell_type": "raw",
   "metadata": {},
   "source": [
    "%%time\n",
    "\n",
    "scoring = np.zeros((test_states.shape[0], 5))\n",
    "\n",
    "for i in range(test_states.shape[0]):\n",
    "\n",
    "    dat_idx = data_n['state_name'] == test_states[i]\n",
    "\n",
    "    data_s = data_n[dat_idx]\n",
    "    data_s = data_s.drop(['state', 'state_name'], axis=1)\n",
    "    edge_s = edge_weights[dat_idx]\n",
    "\n",
    "    Y = data_s['prof'].as_matrix()\n",
    "    X = data_s.drop(['prof'],axis=1).as_matrix()\n",
    "\n",
    "    loo = LeaveOneOut()\n",
    "\n",
    "    # model = RandomForestClassifier(n_estimators=100)\n",
    "    model = tree.DecisionTreeClassifier(criterion='entropy')\n",
    "\n",
    "    y_pred = np.zeros(Y.shape[0])\n",
    "\n",
    "    j = 0\n",
    "\n",
    "    for train_idx, test_idx in loo.split(X):\n",
    "        x_train = X[train_idx]\n",
    "        x_test = X[test_idx]\n",
    "        y_train = Y[train_idx]\n",
    "        y_test = Y[test_idx]\n",
    "\n",
    "    #     model.fit(x_train, y_train, sample_weight=edge_s[j])\n",
    "        model.fit(x_train, y_train)\n",
    "\n",
    "        y_pred[j] = model.predict(x_test)\n",
    "\n",
    "        j = j + 1\n",
    "\n",
    "    scoring[i] = np.array([accuracy_score(Y, y_pred), precision_score(Y, y_pred), recall_score(Y, y_pred),\n",
    "             f1_score(Y, y_pred), roc_auc_score(Y, y_pred)])"
   ]
  },
  {
   "cell_type": "raw",
   "metadata": {},
   "source": [
    "scoring"
   ]
  },
  {
   "cell_type": "raw",
   "metadata": {},
   "source": [
    "np.mean(scoring, axis=0)"
   ]
  },
  {
   "cell_type": "markdown",
   "metadata": {},
   "source": [
    "# LOOCV on States with < 70% majority with edge weights"
   ]
  },
  {
   "cell_type": "raw",
   "metadata": {},
   "source": [
    "# test_states = states_sort[(diffs_sort < .2) & (states_sort != 'MT')]\n",
    "test_states = states_sort[(states_sort != 'MT') & (states_sort != 'ND')]\n",
    "\n",
    "test_states.shape"
   ]
  },
  {
   "cell_type": "raw",
   "metadata": {},
   "source": [
    "%%time\n",
    "\n",
    "scoring = np.zeros((test_states.shape[0], 5))\n",
    "\n",
    "for i in range(test_states.shape[0]):\n",
    "\n",
    "    dat_idx = data_n['state_name'] == test_states[i]\n",
    "\n",
    "    data_s = data_n[dat_idx]\n",
    "    data_s = data_s.drop(['state', 'state_name'], axis=1)\n",
    "    edge_s = edge_weights[dat_idx]\n",
    "\n",
    "    Y = data_s['prof'].as_matrix()\n",
    "    X = data_s.drop(['prof'],axis=1).as_matrix()\n",
    "\n",
    "    loo = LeaveOneOut()\n",
    "\n",
    "    # model = RandomForestClassifier(n_estimators=100)\n",
    "    model = tree.DecisionTreeClassifier(criterion='entropy')\n",
    "\n",
    "    y_pred = np.zeros(Y.shape[0])\n",
    "\n",
    "    j = 0\n",
    "\n",
    "    for train_idx, test_idx in loo.split(X):\n",
    "        x_train = X[train_idx]\n",
    "        x_test = X[test_idx]\n",
    "        y_train = Y[train_idx]\n",
    "        y_test = Y[test_idx]\n",
    "\n",
    "        model.fit(x_train, y_train, sample_weight=edge_s[j])\n",
    "#         model.fit(x_train, y_train)\n",
    "\n",
    "        y_pred[j] = model.predict(x_test)\n",
    "\n",
    "        j = j + 1\n",
    "\n",
    "    scoring[i] = np.array([accuracy_score(Y, y_pred), precision_score(Y, y_pred), recall_score(Y, y_pred),\n",
    "             f1_score(Y, y_pred), roc_auc_score(Y, y_pred)])"
   ]
  },
  {
   "cell_type": "raw",
   "metadata": {},
   "source": [
    "scoring"
   ]
  },
  {
   "cell_type": "raw",
   "metadata": {},
   "source": [
    "np.mean(scoring, axis=0)"
   ]
  },
  {
   "cell_type": "raw",
   "metadata": {},
   "source": [
    "test_states[i]"
   ]
  },
  {
   "cell_type": "markdown",
   "metadata": {
    "collapsed": true
   },
   "source": [
    "# Collective classification"
   ]
  },
  {
   "cell_type": "raw",
   "metadata": {},
   "source": [
    "#adjacency, edge_weights\n",
    "\n",
    "data_c = data_n.drop(['state','state_name'],axis=1).copy()\n",
    "edge_weights = np.array(edge_weights)\n",
    "\n",
    "y = data_c['prof'].as_matrix()\n",
    "x = data_c.drop(['prof'],axis=1).as_matrix()\n",
    "indices = np.arange(x.shape[0])\n",
    "\n",
    "x_train, x_test, y_train, y_test, train_idx, test_idx = train_test_split(x, y, indices, test_size=.2,stratify=y)\n",
    "\n",
    "print(x_train.shape)\n",
    "print(y_train.shape)\n",
    "print(x_test.shape)\n",
    "print(y_test.shape)"
   ]
  },
  {
   "cell_type": "raw",
   "metadata": {
    "collapsed": true,
    "scrolled": true
   },
   "source": [
    "%%time\n",
    "\n",
    "y_pred = np.zeros(x_test.shape[0])\n",
    "\n",
    "for i in range(x_test.shape[0]):\n",
    "    edges = adjacency[test_idx[i]]\n",
    "    clf = tree.DecisionTreeClassifier('entropy')\n",
    "    pass"
   ]
  },
  {
   "cell_type": "code",
   "execution_count": null,
   "metadata": {
    "collapsed": true
   },
   "outputs": [],
   "source": []
  },
  {
   "cell_type": "code",
   "execution_count": null,
   "metadata": {
    "collapsed": true
   },
   "outputs": [],
   "source": []
  }
 ],
 "metadata": {
  "kernelspec": {
   "display_name": "Python [default]",
   "language": "python",
   "name": "python3"
  },
  "language_info": {
   "codemirror_mode": {
    "name": "ipython",
    "version": 3
   },
   "file_extension": ".py",
   "mimetype": "text/x-python",
   "name": "python",
   "nbconvert_exporter": "python",
   "pygments_lexer": "ipython3",
   "version": "3.5.4"
  }
 },
 "nbformat": 4,
 "nbformat_minor": 2
}
