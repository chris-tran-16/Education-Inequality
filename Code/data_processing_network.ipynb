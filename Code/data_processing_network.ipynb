{
 "cells": [
  {
   "cell_type": "code",
   "execution_count": 138,
   "metadata": {
    "collapsed": true
   },
   "outputs": [],
   "source": [
    "import pandas as pd\n",
    "import numpy as np\n",
    "import pickle\n",
    "from sys import getsizeof\n",
    "\n",
    "data_dir = 'data/final_data/'"
   ]
  },
  {
   "cell_type": "code",
   "execution_count": 2,
   "metadata": {},
   "outputs": [
    {
     "name": "stderr",
     "output_type": "stream",
     "text": [
      "/home/chrisleetran94/anaconda3/lib/python3.5/site-packages/IPython/core/interactiveshell.py:2698: DtypeWarning: Columns (5,6,9) have mixed types. Specify dtype option on import or set low_memory=False.\n",
      "  interactivity=interactivity, compiler=compiler, result=result)\n"
     ]
    },
    {
     "data": {
      "text/plain": [
       "['SURVYEAR',\n",
       " 'NCESSCH',\n",
       " 'LEAID',\n",
       " 'SCHNO',\n",
       " 'STID',\n",
       " 'SEASCH',\n",
       " 'LEANM',\n",
       " 'SCHNAM',\n",
       " 'PHONE',\n",
       " 'MSTREE',\n",
       " 'MCITY',\n",
       " 'MSTATE',\n",
       " 'MZIP',\n",
       " 'MZIP4',\n",
       " 'LSTREE',\n",
       " 'LCITY',\n",
       " 'LZIP',\n",
       " 'LZIP4',\n",
       " 'CONUM',\n",
       " 'CONAME',\n",
       " 'CDCODE']"
      ]
     },
     "execution_count": 2,
     "metadata": {},
     "output_type": "execute_result"
    }
   ],
   "source": [
    "data_r = pd.read_csv(data_dir + 'data_binary.csv')\n",
    "\n",
    "data_cols = data_r.columns\n",
    "colsr1 = data_cols[0:20]\n",
    "# colsr2 = data_cols[3:20]\n",
    "colsr3 = data_cols[26:29]\n",
    "data_cols_r1 = colsr1.append(colsr3)\n",
    "\n",
    "keep = ['FIPST', 'LSTATE']\n",
    "\n",
    "data_cols_r1 = [i for i in data_cols_r1 if i not in keep]\n",
    "\n",
    "data_cols_r1"
   ]
  },
  {
   "cell_type": "code",
   "execution_count": 3,
   "metadata": {},
   "outputs": [
    {
     "name": "stdout",
     "output_type": "stream",
     "text": [
      "(36295, 421)\n"
     ]
    }
   ],
   "source": [
    "data_n = data_r.drop(data_cols_r1, axis=1)\n",
    "print(data_n.shape)\n",
    "data_n = data_n.rename(columns={'FIPST': 'state', 'LSTATE': 'state_name'})\n",
    "data_n['index'] = data_n.index"
   ]
  },
  {
   "cell_type": "code",
   "execution_count": 4,
   "metadata": {
    "collapsed": true
   },
   "outputs": [],
   "source": [
    "# data_n[8520:8540]"
   ]
  },
  {
   "cell_type": "code",
   "execution_count": 5,
   "metadata": {
    "collapsed": true
   },
   "outputs": [],
   "source": [
    "def distance(lat1, lon1, lat2, lon2):\n",
    "    R = 3961\n",
    "\n",
    "    lat1 = np.radians(lat1)\n",
    "    lon1 = np.radians(lon1)\n",
    "    lat2 = np.radians(lat2)\n",
    "    lon2 = np.radians(lon2)\n",
    "\n",
    "    dlon = lon2 - lon1\n",
    "    dlat = lat2 - lat1\n",
    "\n",
    "    a = np.sin(dlat / 2)**2 + np.cos(lat1) * np.cos(lat2) * np.sin(dlon / 2)**2\n",
    "    c = 2 * np.arctan2(np.sqrt(a), np.sqrt(1 - a))\n",
    "\n",
    "    distance = R * c\n",
    "    \n",
    "    return distance"
   ]
  },
  {
   "cell_type": "code",
   "execution_count": 128,
   "metadata": {
    "collapsed": true
   },
   "outputs": [],
   "source": [
    "def create_network(data_n, percent_edges=.2):\n",
    "    \n",
    "    dist_eps=.01\n",
    "    \n",
    "    norm_eps1=.01\n",
    "    norm_eps2=.1\n",
    "    \n",
    "    adjacency = list()\n",
    "    edge_weights = list()\n",
    "\n",
    "    for i in range(data_n.shape[0]):\n",
    "        \n",
    "        idx = (data_n['state'] == data_n['state'][i]) & (data_n['index'] != i)\n",
    "        \n",
    "        edge_idx = data_n['index'][idx].as_matrix()\n",
    "\n",
    "        dist = 1/(distance(data_n['LATCOD'][idx], data_n['LONCOD'][idx], data_n['LATCOD'][i], data_n['LONCOD'][i]) + dist_eps)\n",
    "        dist = (dist - dist.min() + norm_eps1)/(dist.max() - dist.min() + norm_eps2)\n",
    "        dist = dist.as_matrix()\n",
    "\n",
    "        sort_idx = np.argsort(dist)[::-1]\n",
    "\n",
    "        sort_idx = sort_idx[:np.int(np.ceil(percent_edges*sort_idx.shape[0]))]\n",
    "\n",
    "        adjacency.append(edge_idx[sort_idx])\n",
    "        edge_weights.append(dist[sort_idx])\n",
    "        \n",
    "    return adjacency, edge_weights"
   ]
  },
  {
   "cell_type": "code",
   "execution_count": 129,
   "metadata": {},
   "outputs": [],
   "source": [
    "# dist_eps=.01\n",
    "    \n",
    "# norm_eps1=.01\n",
    "# norm_eps2=.1\n",
    "\n",
    "# idx = (data_n['state'] == data_n['state'][i]) & (data_n['index'] != i)\n",
    "\n",
    "# dist = 1/(distance(data_n['LATCOD'][idx], data_n['LONCOD'][idx], data_n['LATCOD'][i], data_n['LONCOD'][i]) + dist_eps)\n",
    "# dist = (dist - dist.min() + norm_eps1)/(dist.max() - dist.min() + norm_eps2)\n",
    "# dist = dist.as_matrix()\n",
    "\n",
    "# edge_idx = data_n['index'][idx].as_matrix()\n",
    "\n",
    "# sort_idx = np.argsort(dist)[::-1]\n",
    "\n",
    "# sort_idx = sort_idx[:np.int(np.ceil(percent_edges*sort_idx.shape[0]))]\n",
    "\n",
    "# adjacency.append(edge_idx[sort_idx])\n",
    "# edge_weights.append(dist[sort_idx])\n",
    "\n",
    "# print(edge_idx[sort_idx])\n",
    "# print(sort_idx)"
   ]
  },
  {
   "cell_type": "code",
   "execution_count": 130,
   "metadata": {},
   "outputs": [
    {
     "name": "stdout",
     "output_type": "stream",
     "text": [
      "CPU times: user 2min 10s, sys: 484 ms, total: 2min 11s\n",
      "Wall time: 2min 11s\n"
     ]
    }
   ],
   "source": [
    "%%time\n",
    "\n",
    "with open(data_dir + 'network.pkl', 'wb') as f:\n",
    "    adjacency, edge_weights = create_network(data_n)\n",
    "    adjacency = np.array(adjacency)\n",
    "    edge_weights = np.array(edge_weights)\n",
    "    pickle.dump([adjacency, edge_weights], f, protocol=-1)"
   ]
  },
  {
   "cell_type": "code",
   "execution_count": 159,
   "metadata": {
    "collapsed": true
   },
   "outputs": [],
   "source": [
    "data_nf = data_n.drop(['index'], axis=1)\n",
    "\n",
    "data_nf.to_csv(data_dir + 'data_n', index=False, encoding='utf-8')"
   ]
  },
  {
   "cell_type": "code",
   "execution_count": 170,
   "metadata": {},
   "outputs": [],
   "source": [
    "# dist_eps=.01\n",
    "    \n",
    "# norm_eps1=.01\n",
    "# norm_eps2=.1\n",
    "\n",
    "# adjacency = list()\n",
    "# edge_weights = list()\n",
    "\n",
    "# i = 0\n",
    "# percent_edges=.2\n",
    "\n",
    "# idx = (data_n['state'] == data_n['state'][i]) & (data_n['index'] != i)\n",
    "\n",
    "# edge_idx = data_n['index'][idx].as_matrix()\n",
    "\n",
    "# dist = 1/(distance(data_n['LATCOD'][idx], data_n['LONCOD'][idx], data_n['LATCOD'][i], data_n['LONCOD'][i]) + dist_eps)\n",
    "# dist = (dist - dist.min() + norm_eps1)/(dist.max() - dist.min() + norm_eps2)\n",
    "# dist = dist.as_matrix()\n",
    "\n",
    "# sort_idx = np.argsort(dist)[::-1]\n",
    "\n",
    "# sort_idx = sort_idx[:np.int(np.ceil(percent_edges*sort_idx.shape[0]))]\n",
    "\n",
    "# adjacency.append(edge_idx[sort_idx])\n",
    "# edge_weights.append(dist[sort_idx])\n",
    "\n",
    "# edge_weights[0].shape"
   ]
  },
  {
   "cell_type": "code",
   "execution_count": null,
   "metadata": {},
   "outputs": [],
   "source": []
  },
  {
   "cell_type": "code",
   "execution_count": null,
   "metadata": {
    "collapsed": true
   },
   "outputs": [],
   "source": []
  }
 ],
 "metadata": {
  "kernelspec": {
   "display_name": "Python 3",
   "language": "python",
   "name": "python3"
  },
  "language_info": {
   "codemirror_mode": {
    "name": "ipython",
    "version": 3
   },
   "file_extension": ".py",
   "mimetype": "text/x-python",
   "name": "python",
   "nbconvert_exporter": "python",
   "pygments_lexer": "ipython3",
   "version": "3.5.4"
  }
 },
 "nbformat": 4,
 "nbformat_minor": 2
}
